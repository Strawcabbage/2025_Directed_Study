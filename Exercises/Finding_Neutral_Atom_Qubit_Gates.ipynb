{
 "cells": [
  {
   "cell_type": "code",
   "execution_count": 2,
   "id": "9ca76d91",
   "metadata": {},
   "outputs": [],
   "source": [
    "import numpy as np\n",
    "import matplotlib.pyplot as plt\n",
    "#Import qutip\n",
    "from qutip import *"
   ]
  },
  {
   "cell_type": "markdown",
   "id": "b27f9467",
   "metadata": {},
   "source": [
    "#### 1. Implement Gate Fidelity"
   ]
  },
  {
   "cell_type": "code",
   "execution_count": 11,
   "id": "d56b3a7e",
   "metadata": {},
   "outputs": [],
   "source": [
    "def state_fidelity_after_gate(rho_in, ideal_gate, noisy_gate):\n",
    "\n",
    "    rho_ideal = ideal_gate * rho_in * ideal_gate.dag()\n",
    "\n",
    "    rho_noisy = noisy_gate * rho_in * noisy_gate.dag()\n",
    "\n",
    "    return fidelity(rho_noisy, rho_ideal)\n",
    "\n",
    "def rho_TR(d):\n",
    "\n",
    "    psi = sum(basis(d, i) for i in range(d)).unit()\n",
    "    return ket2dm(psi)\n",
    "\n",
    "def apply_unitary(U, rho):\n",
    "\n",
    "    return U * rho * U.dag()\n",
    "\n",
    "def F_TR(d, ideal_gate, noisy_gate):\n",
    "\n",
    "    rho_in = rho_TR(d)\n",
    "\n",
    "    rho_ideal = apply_unitary(ideal_gate, rho_in)\n",
    "\n",
    "    rho_real = apply_unitary(noisy_gate, rho_in)\n",
    "\n",
    "    return fidelity(rho_real, rho_ideal)  \n",
    "\n",
    "\n",
    "def F_arith(d, ideal_gate, noisy_gate):\n",
    "\n",
    "    F_basis_sum = 0.0\n",
    "\n",
    "    for i in range(d):\n",
    "\n",
    "        ket_i = basis(d,i)\n",
    "        rho_i = ket2dm(ket_i)\n",
    "        F_basis_sum += state_fidelity_after_gate(rho_i, ideal_gate, noisy_gate)\n",
    "    \n",
    "\n",
    "    return (F_basis_sum + F_TR(d, ideal_gate, noisy_gate)) / (d + 1)\n",
    "\n",
    "\n",
    "def F_geom(d, ideal_gate, noisy_gate):\n",
    "    \n",
    "     F_basis_product = 1.0\n",
    "\n",
    "     for i in range(d):\n",
    "         \n",
    "         ket_i = basis(d,i)\n",
    "         rho_i = ket2dm(ket_i)\n",
    "         F_basis_product *= state_fidelity_after_gate(rho_i, ideal_gate, noisy_gate)\n",
    "         \n",
    "     return (1 / (d + 1)) + ((1 - (1 / (d + 1))) * (F_TR(d, ideal_gate, noisy_gate) * F_basis_product))\n",
    "\n",
    "def F_lambda(d, ideal_gate, noisy_gate):\n",
    "\n",
    "    F_basis_product = 1.0\n",
    "\n",
    "    for i in range(d):\n",
    "         \n",
    "        ket_i = basis(d,i)\n",
    "        rho_i = ket2dm(ket_i)\n",
    "        F_basis_product *= state_fidelity_after_gate(rho_i, ideal_gate, noisy_gate)\n",
    "\n",
    "    lambd = 1 - ((1 - F_basis_product) / (1 - (F_basis_product * F_TR(d, ideal_gate, noisy_gate))))\n",
    "\n",
    "    return (lambd * F_geom(d, ideal_gate, noisy_gate)) + ((1 - lambd) * F_arith(d, ideal_gate, noisy_gate))\n"
   ]
  },
  {
   "cell_type": "code",
   "execution_count": 31,
   "id": "a3420e3c",
   "metadata": {},
   "outputs": [
    {
     "name": "stdout",
     "output_type": "stream",
     "text": [
      "1.8373060850507272e-08\n"
     ]
    }
   ],
   "source": [
    "d = 4\n",
    "U = rand_unitary(d)\n",
    "print(abs(F_lambda(d, U, U) - 1.0))"
   ]
  }
 ],
 "metadata": {
  "kernelspec": {
   "display_name": "base",
   "language": "python",
   "name": "python3"
  },
  "language_info": {
   "codemirror_mode": {
    "name": "ipython",
    "version": 3
   },
   "file_extension": ".py",
   "mimetype": "text/x-python",
   "name": "python",
   "nbconvert_exporter": "python",
   "pygments_lexer": "ipython3",
   "version": "3.13.2"
  }
 },
 "nbformat": 4,
 "nbformat_minor": 5
}
